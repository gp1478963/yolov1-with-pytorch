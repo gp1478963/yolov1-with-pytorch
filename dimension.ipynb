{
 "cells": [
  {
   "cell_type": "code",
   "execution_count": 7,
   "id": "initial_id",
   "metadata": {
    "collapsed": true,
    "ExecuteTime": {
     "end_time": "2023-11-28T06:35:17.941468500Z",
     "start_time": "2023-11-28T06:35:17.931464200Z"
    }
   },
   "outputs": [],
   "source": [
    "import torch\n",
    "import numpy as np"
   ]
  },
  {
   "cell_type": "code",
   "execution_count": 8,
   "outputs": [],
   "source": [
    "mat = torch.zeros((7, 7, 10), dtype=torch.int)"
   ],
   "metadata": {
    "collapsed": false,
    "ExecuteTime": {
     "end_time": "2023-11-28T06:35:17.973012600Z",
     "start_time": "2023-11-28T06:35:17.945461200Z"
    }
   },
   "id": "d3e596e4dacd6f7b"
  },
  {
   "cell_type": "code",
   "execution_count": 9,
   "outputs": [
    {
     "name": "stdout",
     "output_type": "stream",
     "text": [
      "tensor([0., 0., 0., 3., 0., 0., 0., 0., 0., 0.])\n"
     ]
    }
   ],
   "source": [
    "nums = torch.zeros(10, dtype=torch.float)\n",
    "nums.scatter_(dim=0, index=torch.tensor(3), src=torch.tensor(3.))\n",
    "print(nums)"
   ],
   "metadata": {
    "collapsed": false,
    "ExecuteTime": {
     "end_time": "2023-11-28T06:35:17.998018200Z",
     "start_time": "2023-11-28T06:35:17.962480500Z"
    }
   },
   "id": "62b921fe198ef817"
  }
 ],
 "metadata": {
  "kernelspec": {
   "display_name": "Python 3",
   "language": "python",
   "name": "python3"
  },
  "language_info": {
   "codemirror_mode": {
    "name": "ipython",
    "version": 2
   },
   "file_extension": ".py",
   "mimetype": "text/x-python",
   "name": "python",
   "nbconvert_exporter": "python",
   "pygments_lexer": "ipython2",
   "version": "2.7.6"
  }
 },
 "nbformat": 4,
 "nbformat_minor": 5
}
